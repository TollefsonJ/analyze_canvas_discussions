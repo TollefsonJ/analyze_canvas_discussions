{
 "cells": [
  {
   "cell_type": "code",
   "execution_count": null,
   "metadata": {},
   "outputs": [],
   "source": [
    "import numpy as np\n",
    "import pandas as pd\n",
    "\n",
    "# from pathvalidate import sanitize_filename\n",
    "from canvasapi import Canvas\n",
    "from canvasapi.course import Course\n",
    "from canvasapi.module import Module, ModuleItem"
   ]
  },
  {
   "cell_type": "markdown",
   "metadata": {},
   "source": [
    "# Initialize Canvas\n",
    "You need to create an access token to use the Canvas API.\n",
    "\n",
    "You can do this in account settings (https://canvas.brown.edu/profile/settings), under the \"approved integrations\" heading.\n",
    "\n",
    "Paste your token where it says 'your_token_here'"
   ]
  },
  {
   "cell_type": "code",
   "execution_count": null,
   "metadata": {},
   "outputs": [],
   "source": [
    "token = <your_token_here>\n",
    "canvas = Canvas('https://canvas.brown.edu', token)"
   ]
  },
  {
   "cell_type": "markdown",
   "metadata": {},
   "source": [
    "# Print list of courses and select course to analyze\n",
    "The cell below prints a list of the courses you're enrolled in.\n",
    "Select a course by pasting the 6-7 digit course code in the following cell, where it says 'your_course_here'"
   ]
  },
  {
   "cell_type": "code",
   "execution_count": null,
   "metadata": {},
   "outputs": [],
   "source": [
    "# print list of courses; select course in cell below by the number in parentheses\n",
    "courses = canvas.get_courses()\n",
    "for course in courses:\n",
    "    print(course)"
   ]
  },
  {
   "cell_type": "code",
   "execution_count": null,
   "metadata": {},
   "outputs": [],
   "source": [
    "course_code = <your_course_here>\n",
    "\n",
    "course = canvas.get_course(course_code)"
   ]
  },
  {
   "cell_type": "markdown",
   "metadata": {},
   "source": [
    "# Analyze discussions\n",
    "Canvas is organized in a set of nested pages. \n",
    "Discussion topics include two levels of posts: \"entries\" and \"replies\".\n",
    "\n",
    "The following cells assume that your course lists discussion pages under \"groups\". You can tell if this is the case by looking at the URL of a discussion page. Here's what a discussion topic that is nested under a \"group\" looks like: https://canvas.brown.edu/groups/192040/discussion_topics/3754897\n",
    "\n",
    "If your course is organized differently (eg: it doesn't include groups), then alter the for-loops accordingly.\n"
   ]
  },
  {
   "cell_type": "markdown",
   "metadata": {},
   "source": [
    "## Set up discussion dataset\n",
    "First, we'll iterate through all course groups, and then through discussion topics, entries, and replies. This sets up a \"list of lists\" that we can analyze later.\n",
    "\n",
    "Finally, the cell below will return a list of discussion topics for the first group; you can use this list to select discussion topics to analyze inteh following section.\n",
    "\n",
    "Again, you'll have to alter the for-loop for different ways of organizing course data."
   ]
  },
  {
   "cell_type": "code",
   "execution_count": null,
   "metadata": {},
   "outputs": [],
   "source": [
    "# get discussion groups\n",
    "groups = course.get_groups()\n",
    "\n",
    "# get discussion topics, entries, and replies\n",
    "for group in groups:\n",
    "    group.topics = group.get_discussion_topics()\n",
    "    for topic in group.topics:\n",
    "        topic.entries = topic.get_topic_entries()\n",
    "        for entry in topic.entries:\n",
    "            entry.replies = entry.get_replies()\n",
    "\n",
    "            # print list of discussion topics\n",
    "for topic in groups[0].topics:\n",
    "    print(topic)    "
   ]
  },
  {
   "cell_type": "markdown",
   "metadata": {},
   "source": [
    "## Analyze discussion data\n",
    "Now, we'll select an individual discussion topic (chosen under \"topic index\", below); iterate through each group; grab the usernames associated with all entries and replies; and return a table of how many times each student posted an original entry, and how many times they replied to other entries.\n",
    "\n",
    "Again, you'll have to alter the for-loop for different ways of organizing course data."
   ]
  },
  {
   "cell_type": "code",
   "execution_count": null,
   "metadata": {},
   "outputs": [],
   "source": [
    "# set the topic index to the discussion topic you want to analyze, from the above list\n",
    "# topic index is the row number of the topic you want to analyze; rows start at '0'\n",
    "topicindex = <your_topic_index_here>\n",
    "\n",
    "\n",
    "# count number of posts and replies for each username, across all groups, for the discussion topic you selected above\n",
    "posters = []\n",
    "replies = []\n",
    "\n",
    "for group in groups:\n",
    "    for entry in group.topics[topicindex].entries:\n",
    "        #print(\"Poster: \", entry.user_name)\n",
    "        posters.append(entry.user_name)\n",
    "        for reply in entry.replies:\n",
    "            #print(\"Reply: \", reply.user_name)\n",
    "            replies.append(entry.user_name)\n",
    "\n",
    "            \n",
    "# count posts per person\n",
    "poster_names, poster_freq = np.unique(posters,  \n",
    "                      return_counts = True)\n",
    "post_df = pd.DataFrame({'Names': poster_names, 'Posts': poster_freq})\n",
    "\n",
    "# count replies per person\n",
    "reply_names, reply_freq = np.unique(replies,  \n",
    "                      return_counts = True) \n",
    "reply_df = pd.DataFrame({'Names': reply_names, 'Replies': reply_freq})\n",
    "\n",
    "# merge posts and replies\n",
    "df = pd.DataFrame.merge(post_df, reply_df, how='outer')\n",
    "df = df.fillna(0)\n",
    "\n",
    "# convert to int64\n",
    "df['Posts'] = df['Posts'].astype('int64')\n",
    "df['Replies'] = df['Replies'].astype('int64')\n",
    "\n",
    "\n",
    "# print table of posts and replies, and mean for each\n",
    "print(df)\n",
    "\n",
    "print('::::::Mean posts: ', np.mean(df['Posts']))\n",
    "\n",
    "print('::::::Mean replies: ', np.mean(df['Replies']))"
   ]
  }
 ],
 "metadata": {
  "kernelspec": {
   "display_name": "Python [conda env:scrape]",
   "language": "python",
   "name": "conda-env-scrape-py"
  },
  "language_info": {
   "codemirror_mode": {
    "name": "ipython",
    "version": 3
   },
   "file_extension": ".py",
   "mimetype": "text/x-python",
   "name": "python",
   "nbconvert_exporter": "python",
   "pygments_lexer": "ipython3",
   "version": "3.8.5"
  }
 },
 "nbformat": 4,
 "nbformat_minor": 4
}
